{
  "nbformat": 4,
  "nbformat_minor": 0,
  "metadata": {
    "colab": {
      "name": "Biyoinforange2.ipynb",
      "provenance": [],
      "collapsed_sections": [],
      "authorship_tag": "ABX9TyPhZi5sOwNAxERddHZevq2g",
      "include_colab_link": true
    },
    "kernelspec": {
      "name": "python3",
      "display_name": "Python 3"
    },
    "language_info": {
      "name": "python"
    }
  },
  "cells": [
    {
      "cell_type": "markdown",
      "metadata": {
        "id": "view-in-github",
        "colab_type": "text"
      },
      "source": [
        "<a href=\"https://colab.research.google.com/github/lemozlemoz/BIrange22.3.21/blob/main/Biyoinforange2.ipynb\" target=\"_parent\"><img src=\"https://colab.research.google.com/assets/colab-badge.svg\" alt=\"Open In Colab\"/></a>"
      ]
    },
    {
      "cell_type": "code",
      "metadata": {
        "colab": {
          "base_uri": "https://localhost:8080/"
        },
        "id": "w4drOvVg2Lde",
        "outputId": "e57da8ed-7bf8-4c90-f41c-b8534bcac7b1"
      },
      "source": [
        "dna = \"ATGCTAGCTAGAGAGATCTCGCATCGACTAGCATCGATCATACGATCGACTAGCGCATAA\"\n",
        "# dna dizisi uzunluğu\n",
        "print(\"DNA dizisinin uzunluğu:\", len(dna))"
      ],
      "execution_count": 1,
      "outputs": [
        {
          "output_type": "stream",
          "text": [
            "DNA dizisinin uzunluğu: 60\n"
          ],
          "name": "stdout"
        }
      ]
    },
    {
      "cell_type": "code",
      "metadata": {
        "colab": {
          "base_uri": "https://localhost:8080/"
        },
        "id": "VqeniIAT3Efv",
        "outputId": "b1ddbb6b-890d-48ae-8b06-d06900e2c1bb"
      },
      "source": [
        "# nükleotid sayma\n",
        "print(\"Adenin sayısı:\", dna.count(\"A\"))\n",
        "print(\"Timin sayısı:\", dna.count(\"T\"))\n",
        "print(\"Guanin sayısı:\", dna.count(\"G\"))\n",
        "print(\"Sitozin sayısı:\", dna.count(\"C\"))"
      ],
      "execution_count": 2,
      "outputs": [
        {
          "output_type": "stream",
          "text": [
            "Adenin sayısı: 19\n",
            "Timin sayısı: 13\n",
            "Guanin sayısı: 13\n",
            "Sitozin sayısı: 15\n"
          ],
          "name": "stdout"
        }
      ]
    },
    {
      "cell_type": "code",
      "metadata": {
        "colab": {
          "base_uri": "https://localhost:8080/"
        },
        "id": "PBjSei0B3wRr",
        "outputId": "20efd171-d23c-497e-c1af-ceb425b66f17"
      },
      "source": [
        "#dna dizinin rna dizisine çevirme\n",
        "print(\"RNA:\", dna.replace(\"T\", \"U\"))\n"
      ],
      "execution_count": 9,
      "outputs": [
        {
          "output_type": "stream",
          "text": [
            "RNA: AUGCUAGCUAGAGAGAUCUCGCAUCGACUAGCAUCGAUCAUACGAUCGACUAGCGCAUAA\n"
          ],
          "name": "stdout"
        }
      ]
    },
    {
      "cell_type": "code",
      "metadata": {
        "colab": {
          "base_uri": "https://localhost:8080/"
        },
        "id": "ajXR5gis4bpu",
        "outputId": "8e137c9c-7d45-4808-a98b-1de5ebf00089"
      },
      "source": [
        "#GC oranı hesaplama\n",
        "GC_oran= ((dna.count(\"G\") + dna.count (\"C\")) / len(dna))\n",
        "print(\"GC oranı:\", GC_oran)"
      ],
      "execution_count": 19,
      "outputs": [
        {
          "output_type": "stream",
          "text": [
            "GC oranı: 0.4666666666666667\n"
          ],
          "name": "stdout"
        }
      ]
    },
    {
      "cell_type": "code",
      "metadata": {
        "colab": {
          "base_uri": "https://localhost:8080/"
        },
        "id": "gojebwT75UBo",
        "outputId": "3b35ca62-71e0-46f6-f48e-15d5db07f5d4"
      },
      "source": [
        "#motif sayma şarlardan sonra iki nokta bırakmalı ki aşağıda indent olsun\n",
        "motif = \"ATG\"\n",
        "if motif in dna:\n",
        "  print(\"Bu motif dna dizimizde\", dna.count(motif), \"tane vardır.\")\n",
        "else: \n",
        "  print(\"BU motif dna dizimizde YOKtur.\")\n",
        "\n",
        "motif2 = \"AT\"\n",
        "if motif2 in dna:\n",
        "  print(\"Bu motif dna dizimizde\", dna.count(motif2), \"tane vardır.\")\n",
        "else: \n",
        "  print(\"BU motif dna dizimizde YOKtur.\")"
      ],
      "execution_count": 26,
      "outputs": [
        {
          "output_type": "stream",
          "text": [
            "Bu motif dna dizimizde 1 tane vardır.\n",
            "Bu motif dna dizimizde 8 tane vardır.\n"
          ],
          "name": "stdout"
        }
      ]
    },
    {
      "cell_type": "code",
      "metadata": {
        "colab": {
          "base_uri": "https://localhost:8080/"
        },
        "id": "KxRcKSfD65Pn",
        "outputId": "4f4427ff-d793-4201-c20f-bc2bb6e99aac"
      },
      "source": [
        "#reverse complement. for döngüsü\n",
        "print(dna)\n",
        "reverse_complement= dna[::-1] \n",
        "for nükleotid in reverse_complement:\n",
        "  if nükleotid == \"A\":\n",
        "    print(\"T\", end=\"\") #end=\"\" diziyi yanyana yamak için bunu yazmamız şart. Yoksa alt alta verir\n",
        "  elif nükleotid == \"T\":\n",
        "    print(\"A\", end=\"\")\n",
        "  elif nükleotid == \"G\":\n",
        "    print(\"C\", end=\"\")\n",
        "  elif nükleotid == \"C\":\n",
        "    print(\"G\", end=\"\")"
      ],
      "execution_count": 29,
      "outputs": [
        {
          "output_type": "stream",
          "text": [
            "ATGCTAGCTAGAGAGATCTCGCATCGACTAGCATCGATCATACGATCGACTAGCGCATAA\n",
            "TTATGCGCTAGTCGATCGTATGATCGATGCTAGTCGATGCGAGATCTCTCTAGCTAGCAT"
          ],
          "name": "stdout"
        }
      ]
    },
    {
      "cell_type": "code",
      "metadata": {
        "colab": {
          "base_uri": "https://localhost:8080/"
        },
        "id": "2t7lt9XS7UKG",
        "outputId": "7cc5e152-a632-480a-a9ed-93e7d71a0ece"
      },
      "source": [
        "#dna 3'lü kodonlara ayırma\n",
        "def dna_uclu_kodon(dna):\n",
        "  kodon_list = []\n",
        "  for i in range(0, len(dna), 3): #3r 3er arttırarark \n",
        "    kodon_list.append(dna[i:i+3]) #append ekleme\n",
        "  return kodon_list\n",
        "print(dna_uclu_kodon(\"ATGCTAGCTAGAGAGATCTCGCATCGACTAGCATCGATCATACGATCGACTAGCGCATAA\"))    \n",
        "\n",
        "# def dna_uclu_kodon(dna): kodon_list=[] for i in range(0,len(dna),3): kodon_list.append(dna[i:i+3]) return kodon_listprint(dna_uclu_kodon(dna))"
      ],
      "execution_count": 31,
      "outputs": [
        {
          "output_type": "stream",
          "text": [
            "['ATG', 'CTA', 'GCT', 'AGA', 'GAG', 'ATC', 'TCG', 'CAT', 'CGA', 'CTA', 'GCA', 'TCG', 'ATC', 'ATA', 'CGA', 'TCG', 'ACT', 'AGC', 'GCA', 'TAA']\n"
          ],
          "name": "stdout"
        }
      ]
    },
    {
      "cell_type": "code",
      "metadata": {
        "id": "nGwSSGHdAJtt"
      },
      "source": [
        ""
      ],
      "execution_count": null,
      "outputs": []
    }
  ]
}
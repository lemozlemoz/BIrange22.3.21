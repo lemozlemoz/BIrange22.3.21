{
  "nbformat": 4,
  "nbformat_minor": 0,
  "metadata": {
    "colab": {
      "name": "Bioinforange.ipynb",
      "provenance": [],
      "collapsed_sections": [],
      "authorship_tag": "ABX9TyMpRsrgvbCOl0wAsqLSP5Mx",
      "include_colab_link": true
    },
    "kernelspec": {
      "name": "python3",
      "display_name": "Python 3"
    },
    "language_info": {
      "name": "python"
    }
  },
  "cells": [
    {
      "cell_type": "markdown",
      "metadata": {
        "id": "view-in-github",
        "colab_type": "text"
      },
      "source": [
        "<a href=\"https://colab.research.google.com/github/lemozlemoz/BIrange22.3.21/blob/main/Bioinforange.ipynb\" target=\"_parent\"><img src=\"https://colab.research.google.com/assets/colab-badge.svg\" alt=\"Open In Colab\"/></a>"
      ]
    },
    {
      "cell_type": "code",
      "metadata": {
        "id": "p-UFGG-bLBPp",
        "colab": {
          "base_uri": "https://localhost:8080/"
        },
        "outputId": "c3578c8b-fa16-4045-a6e5-30c26c059ed4"
      },
      "source": [
        "protein_dizisi = \"VLMALWMRLLPLLQPALALWGPDPAAAFVNQHLCGSHLVEALYYGVCLQMRGFFYTPKTRREAEAQDVGQVELGGGPGAGSLQPLA\"\n",
        "print(protein_dizisi)\n"
      ],
      "execution_count": 1,
      "outputs": [
        {
          "output_type": "stream",
          "text": [
            "VLMALWMRLLPLLQPALALWGPDPAAAFVNQHLCGSHLVEALYYGVCLQMRGFFYTPKTRREAEAQDVGQVELGGGPGAGSLQPLA\n"
          ],
          "name": "stdout"
        }
      ]
    },
    {
      "cell_type": "code",
      "metadata": {
        "colab": {
          "base_uri": "https://localhost:8080/"
        },
        "id": "y8Yz7ErPvuIt",
        "outputId": "f577b5cf-1140-48a2-cb68-622f536f5ebb"
      },
      "source": [
        "# altgrr+3 sekans uzunluğu\n",
        "print(len(protein_dizisi))\n"
      ],
      "execution_count": 2,
      "outputs": [
        {
          "output_type": "stream",
          "text": [
            "86\n"
          ],
          "name": "stdout"
        }
      ]
    },
    {
      "cell_type": "code",
      "metadata": {
        "colab": {
          "base_uri": "https://localhost:8080/"
        },
        "id": "LPWBhYX2wkRa",
        "outputId": "689cfd36-4859-4daa-f049-7951d1fdb113"
      },
      "source": [
        "#sekansta bulunan aaleri sayma\n",
        "print(protein_dizisi.count('M'))\n",
        "print(protein_dizisi.count('L'))\n",
        "print(protein_dizisi.count('P'))"
      ],
      "execution_count": 4,
      "outputs": [
        {
          "output_type": "stream",
          "text": [
            "3\n",
            "15\n",
            "7\n"
          ],
          "name": "stdout"
        }
      ]
    },
    {
      "cell_type": "code",
      "metadata": {
        "colab": {
          "base_uri": "https://localhost:8080/"
        },
        "id": "GfxbKuZyxckd",
        "outputId": "79e3ea89-f437-49db-a315-58d3487cddb8"
      },
      "source": [
        "# bütün sekansı büyük-küçük harf olarak değiştirme\n",
        "print(protein_dizisi.lower())\n",
        "print(protein_dizisi.upper())"
      ],
      "execution_count": 5,
      "outputs": [
        {
          "output_type": "stream",
          "text": [
            "vlmalwmrllpllqpalalwgpdpaaafvnqhlcgshlvealyygvclqmrgffytpktrreaeaqdvgqvelgggpgagslqpla\n",
            "VLMALWMRLLPLLQPALALWGPDPAAAFVNQHLCGSHLVEALYYGVCLQMRGFFYTPKTRREAEAQDVGQVELGGGPGAGSLQPLA\n"
          ],
          "name": "stdout"
        }
      ]
    },
    {
      "cell_type": "code",
      "metadata": {
        "colab": {
          "base_uri": "https://localhost:8080/"
        },
        "id": "6E_y7o_-yJdc",
        "outputId": "5f29550f-9101-40a9-a60b-0746b5f6872b"
      },
      "source": [
        "#indekse göre uygulamalar\n",
        "print(protein_dizisi[0])\n",
        "print(protein_dizisi[1])\n",
        "print(protein_dizisi[-1])\n",
        "print(protein_dizisi[25])   \n",
        "print(protein_dizisi[(len(protein_dizisi)-1)])"
      ],
      "execution_count": 10,
      "outputs": [
        {
          "output_type": "stream",
          "text": [
            "V\n",
            "L\n",
            "A\n",
            "A\n",
            "A\n"
          ],
          "name": "stdout"
        }
      ]
    },
    {
      "cell_type": "code",
      "metadata": {
        "colab": {
          "base_uri": "https://localhost:8080/"
        },
        "id": "DezRGexyzmVH",
        "outputId": "1a9b61ab-dcbd-4292-a492-7a3dd223ee07"
      },
      "source": [
        "# istenilen indeks aralığını gösteme\n",
        "print(protein_dizisi)\n",
        "print(protein_dizisi[:10]) # 0'dan 9'a dek. 10 dahil değil\n",
        "print(protein_dizisi[10:])\n",
        "print(protein_dizisi[10:20])"
      ],
      "execution_count": 11,
      "outputs": [
        {
          "output_type": "stream",
          "text": [
            "VLMALWMRLLPLLQPALALWGPDPAAAFVNQHLCGSHLVEALYYGVCLQMRGFFYTPKTRREAEAQDVGQVELGGGPGAGSLQPLA\n",
            "VLMALWMRLL\n",
            "PLLQPALALWGPDPAAAFVNQHLCGSHLVEALYYGVCLQMRGFFYTPKTRREAEAQDVGQVELGGGPGAGSLQPLA\n",
            "PLLQPALALW\n"
          ],
          "name": "stdout"
        }
      ]
    }
  ]
}
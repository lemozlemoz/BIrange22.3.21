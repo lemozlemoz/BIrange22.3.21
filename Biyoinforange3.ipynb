{
  "nbformat": 4,
  "nbformat_minor": 0,
  "metadata": {
    "colab": {
      "name": "Biyoinforange3.ipynb",
      "provenance": [],
      "collapsed_sections": [],
      "authorship_tag": "ABX9TyNYM/9BS7/gKUCSWVso/ywr",
      "include_colab_link": true
    },
    "kernelspec": {
      "name": "python3",
      "display_name": "Python 3"
    },
    "language_info": {
      "name": "python"
    }
  },
  "cells": [
    {
      "cell_type": "markdown",
      "metadata": {
        "id": "view-in-github",
        "colab_type": "text"
      },
      "source": [
        "<a href=\"https://colab.research.google.com/github/lemozlemoz/BIrange22.3.21/blob/main/Biyoinforange3.ipynb\" target=\"_parent\"><img src=\"https://colab.research.google.com/assets/colab-badge.svg\" alt=\"Open In Colab\"/></a>"
      ]
    },
    {
      "cell_type": "code",
      "metadata": {
        "colab": {
          "base_uri": "https://localhost:8080/"
        },
        "id": "W1BmbkvuAMD8",
        "outputId": "9a4395cd-6eda-4d64-dbf4-6530c47909d1"
      },
      "source": [
        "#dosyadan veri açma r-read w-girdiğinbilgileri yazar. append-dosyaya ekler. dosya yok ise yeni dosya oluşturup yazar\n",
        "# encoding\n",
        "# utf-8 turkçe karakter problemi yasamamak için\n",
        "#readlines() satır satır olur ve her satırı indexe yazar\n",
        "#/n alt satıra atar\n",
        "with open (\"ornek.fasta\",\"r\", encoding=\"utf-8\") as dosya:\n",
        "  liste = dosya.readlines()\n",
        "\n",
        "print(liste)"
      ],
      "execution_count": 7,
      "outputs": [
        {
          "output_type": "stream",
          "text": [
            "['>NC_039585.1:c3275-1722 Pinus pinea voucher PINE06 plastid, complete genome\\n', 'ATGGATGAGTTCCATAGATGCGGAAAGGAAGATAGCTTTTGGCAACAATGCTTTTTATATCCACTCTTTT\\n', 'TTCAGGAAGATCTTTACGCAATTTCTCATGATCATTATTTGGATGTATCAAGTTCCTCCAGACCGATGGA\\n', 'ACATTTAAGTTCCAATGATCAGTTAAGTTTCCTAACTGTAAAACGTTTGATTGGTCAAATACGTCAACAA\\n', 'AATCATTCAATTGTTTTATTCGTGAATTGCGATCCAAATCCATATCCATTAGCTGATCGCAAGAAGAGTT\\n', 'TCTATTCTGAATCGGTACTAGAAGCACTTACATTGGTCCTGGAAGTTCCGTTCTCTATATGGTCAAAATA\\n', 'TTCTGTGGAAGGGATGAATGAATGTAAGAGTTTCCGGTCGATCCATTCAATATTTCCCTTCTTAGAGGAT\\n', 'AAATTCCCGCATTCAAATTCTATATTAGATGCACGAATACCCTATTCTATTCATCCGGAAATTTTGGTTC\\n', 'GAACCTTTCGTCGCTGGATCCGAGATGCTCCCTCCTTGCACCCATTACGATCTGTTCTCTATGACTATAG\\n', 'AAATAGTCCAGAGAATTTACAAAGATCAATTATTGTCGTCCCAAGAGTAAATACGAGATTCTTCCTGTTC\\n', 'CTGTTGAATTATTATGTCTGTGAATGCGAATCCATTTTATTTTCCCGTCTTAAACGATCCTCTCATTCAC\\n', 'GATCGTTGTCTCATGGATCTTTCCCTCAGCGAACTCATTTTCATCGAAAGATAAAACATATTATCATTTT\\n', 'TTCTCGTCGAAATTCACTGAAAACTATCTGGTCGTTGAAGGATCCTAAAATTCACTATGTTAGATATGGC\\n', 'GAAAGACCTATTATAGCTATAAAGGGTGCTCATCTCCTAGTTAAAAAATGTAGATATTATCTTCTAATTT\\n', 'TTCGGCAATTTTATTTCCATCTTTGGTCCGAACCGTATAGGGTCTGTTCTCATCAATTATCCAAGAATTG\\n', 'TTCTTCTTCTCCAGGTTATTTTTTGAGGGTTCGGATGAACCCTATTTTTGTCAGAACCAAAATGCTAGAT\\n', 'GAGTTATTCATCGCCGATCTTATTACCAATGAAATGGATCCAATAGTTCCGATTGTACCAATAATTGGAT\\n', 'TATTGGCTACAGAAAAATTCTGTGACATATCAGGGCGGCCAATTAGTAAATTGTCTTGGACCAGTCTAAC\\n', 'AGATGATGATATCCTCGATCGATTCGATCAAATTTGGAGAAATCTTTTTCATTACTACAGTGGATCCTTT\\n', 'GATCGAGATGGTTTATATCGTATAAAGTATATACTTTCATTATCATGTGCTAAAACTTTAGCCTGTAAAC\\n', 'ATAAAAGTACGATACGTGTAGTTCGGAAGGAATTAGGTCCAGAACTCTTTAAAAAATCGTTTTCAAAAGA\\n', 'ACGAGAATTTGATTCTCTGCCTTTTTCATCAAAAGCGGCGGCCCGTTCGCAGAGAGAACGAATTTGGCAT\\n', 'TCAGATATTCCCCAGATAAATCCCCTAGCTAATTCCTGGCAAAAGATACAGGATCTGAAAATAGAAAACT\\n', 'TATTTGACCAATGA']\n"
          ],
          "name": "stdout"
        }
      ]
    },
    {
      "cell_type": "code",
      "metadata": {
        "colab": {
          "base_uri": "https://localhost:8080/"
        },
        "id": "hiT1Ui7bCjsL",
        "outputId": "be649bc2-26ea-4253-8d28-52561bc7350e"
      },
      "source": [
        "#liste elemanlarını stringe altarma\n",
        "dna = \"\"  # boş string oluşturma\n",
        "#for ile elemanları dolaşıp yapacağım değişiklikleri dna ya aktaracağım\n",
        "#strip silme işlemi yapacak\n",
        "for index in liste [1:]: \n",
        "  dna += index.strip(\"/n\")\n",
        "\n",
        "print(dna)\n"
      ],
      "execution_count": 8,
      "outputs": [
        {
          "output_type": "stream",
          "text": [
            "ATGGATGAGTTCCATAGATGCGGAAAGGAAGATAGCTTTTGGCAACAATGCTTTTTATATCCACTCTTTT\n",
            "TTCAGGAAGATCTTTACGCAATTTCTCATGATCATTATTTGGATGTATCAAGTTCCTCCAGACCGATGGA\n",
            "ACATTTAAGTTCCAATGATCAGTTAAGTTTCCTAACTGTAAAACGTTTGATTGGTCAAATACGTCAACAA\n",
            "AATCATTCAATTGTTTTATTCGTGAATTGCGATCCAAATCCATATCCATTAGCTGATCGCAAGAAGAGTT\n",
            "TCTATTCTGAATCGGTACTAGAAGCACTTACATTGGTCCTGGAAGTTCCGTTCTCTATATGGTCAAAATA\n",
            "TTCTGTGGAAGGGATGAATGAATGTAAGAGTTTCCGGTCGATCCATTCAATATTTCCCTTCTTAGAGGAT\n",
            "AAATTCCCGCATTCAAATTCTATATTAGATGCACGAATACCCTATTCTATTCATCCGGAAATTTTGGTTC\n",
            "GAACCTTTCGTCGCTGGATCCGAGATGCTCCCTCCTTGCACCCATTACGATCTGTTCTCTATGACTATAG\n",
            "AAATAGTCCAGAGAATTTACAAAGATCAATTATTGTCGTCCCAAGAGTAAATACGAGATTCTTCCTGTTC\n",
            "CTGTTGAATTATTATGTCTGTGAATGCGAATCCATTTTATTTTCCCGTCTTAAACGATCCTCTCATTCAC\n",
            "GATCGTTGTCTCATGGATCTTTCCCTCAGCGAACTCATTTTCATCGAAAGATAAAACATATTATCATTTT\n",
            "TTCTCGTCGAAATTCACTGAAAACTATCTGGTCGTTGAAGGATCCTAAAATTCACTATGTTAGATATGGC\n",
            "GAAAGACCTATTATAGCTATAAAGGGTGCTCATCTCCTAGTTAAAAAATGTAGATATTATCTTCTAATTT\n",
            "TTCGGCAATTTTATTTCCATCTTTGGTCCGAACCGTATAGGGTCTGTTCTCATCAATTATCCAAGAATTG\n",
            "TTCTTCTTCTCCAGGTTATTTTTTGAGGGTTCGGATGAACCCTATTTTTGTCAGAACCAAAATGCTAGAT\n",
            "GAGTTATTCATCGCCGATCTTATTACCAATGAAATGGATCCAATAGTTCCGATTGTACCAATAATTGGAT\n",
            "TATTGGCTACAGAAAAATTCTGTGACATATCAGGGCGGCCAATTAGTAAATTGTCTTGGACCAGTCTAAC\n",
            "AGATGATGATATCCTCGATCGATTCGATCAAATTTGGAGAAATCTTTTTCATTACTACAGTGGATCCTTT\n",
            "GATCGAGATGGTTTATATCGTATAAAGTATATACTTTCATTATCATGTGCTAAAACTTTAGCCTGTAAAC\n",
            "ATAAAAGTACGATACGTGTAGTTCGGAAGGAATTAGGTCCAGAACTCTTTAAAAAATCGTTTTCAAAAGA\n",
            "ACGAGAATTTGATTCTCTGCCTTTTTCATCAAAAGCGGCGGCCCGTTCGCAGAGAGAACGAATTTGGCAT\n",
            "TCAGATATTCCCCAGATAAATCCCCTAGCTAATTCCTGGCAAAAGATACAGGATCTGAAAATAGAAAACT\n",
            "TATTTGACCAATGA\n"
          ],
          "name": "stdout"
        }
      ]
    },
    {
      "cell_type": "code",
      "metadata": {
        "id": "NEzqc-bpDa_H"
      },
      "source": [
        "#gencode sözlüğü gen_code.txt control A ve v ile kopyala yağıştır buraya.. run a basıp çalıştır.\n",
        "gencode = {  'ATA':'I', 'ATC':'I', 'ATT':'I', 'ATG':'M','ACA':'T', 'ACC':'T', 'ACG':'T',\n",
        "             'ACT':'T','AAC':'N', 'AAT':'N', 'AAA':'K', 'AAG':'K','AGC':'S', 'AGT':'S',\n",
        "             'AGA':'R', 'AGG':'R','CTA':'L', 'CTC':'L', 'CTG':'L', 'CTT':'L','CCA':'P',\n",
        "             'CCC':'P', 'CCG':'P', 'CCT':'P','CAC':'H', 'CAT':'H', 'CAA':'Q', 'CAG':'Q',\n",
        "             'CGA':'R', 'CGC':'R','CGG':'R', 'CGT':'R','GTA':'V', 'GTC':'V', 'GTG':'V',\n",
        "             'GTT':'V','GCA':'A', 'GCC':'A', 'GCG':'A', 'GCT':'A','GAC':'D', 'GAT':'D',\n",
        "             'GAA':'E', 'GAG':'E','GGA':'G', 'GGC':'G', 'GGG':'G', 'GGT':'G','TCA':'S',\n",
        "             'TCC':'S', 'TCG':'S', 'TCT':'S','TTC':'F', 'TTT':'F', 'TTA':'L', 'TTG':'L',\n",
        "             'TAC':'Y', 'TAT':'Y', 'TAA':'*', 'TAG':'*','TGC':'C', 'TGT':'C', 'TGA':'*', 'TGG':'W'}"
      ],
      "execution_count": 9,
      "outputs": []
    },
    {
      "cell_type": "code",
      "metadata": {
        "id": "hW6chsFZD8BR",
        "colab": {
          "base_uri": "https://localhost:8080/"
        },
        "outputId": "12817b67-27b9-4375-a376-48d44622ded7"
      },
      "source": [
        "#DNA dizisini proteine dizisine çevir\n",
        "def dnadanProteine(dna):\n",
        "  sonkodonBaslangıcı = len(dna) -2 #-2'ye tekrar bak\n",
        "  protein = \"\" #yeni string değişkeni\n",
        "\n",
        "  for index in range(0, sonkodonBaslangıcı, 3): #indeks değerini 3er artırarak çalışacak\n",
        "    kodon = dna.upper()[index:index+3] \n",
        "    aa = gencode.get(kodon, \"aminoasit dizide bulunamadı\")\n",
        "    protein += aa\n",
        "  \n",
        "  return protein\n",
        "\n",
        "#geciciDna =\"ATGATG\"\n",
        "#DNAdanProteine(geciciDna)\n",
        "dnadanProteine(dna)\n",
        "\n",
        "protein= dnadanProteine(dna)\n",
        "print (protein)\n"
      ],
      "execution_count": 17,
      "outputs": [
        {
          "output_type": "stream",
          "text": [
            "MDEFHRCGKEDSFWQQCFLYPLFaminoasit dizide bulunamadıSGRSLRNFS*SLFGCIKFLQTDGaminoasit dizide bulunamadıI*VPMIS*VS*L*NV*LVKYVNaminoasit dizide bulunamadıNHSIVLFVNCDPNPYPLADRKKSaminoasit dizide bulunamadıLF*IGTRSTYIGPGSSVLYMVKIaminoasit dizide bulunamadıLWKG*MNVRVSGRSIQYFPS*Raminoasit dizide bulunamadıKFPHSNSILDARIPYSIHPEILVaminoasit dizide bulunamadıNLSSLDPRCSLLAPITICSL*L*aminoasit dizide bulunamadıIVQRIYKDQLLSSQE*IRDSSCaminoasit dizide bulunamadıLLNYYVCECESILFSRLKRSSHSaminoasit dizide bulunamadıIVVSWIFPSANSFSSKDKTYYHFaminoasit dizide bulunamadıLVEIH*KLSGR*RILKFTMLDMaminoasit dizide bulunamadıERPIIAIKGAHLLVKKCRYYLLIaminoasit dizide bulunamadıSAILFPSLVRTV*GLFSSIIQELaminoasit dizide bulunamadıLLLQVIF*GFG*TLFLSEPKC*aminoasit dizide bulunamadıELFIADLITNEMDPIVPIVPIIGaminoasit dizide bulunamadıIGYRKIL*HIRAAN**IVLDQSNaminoasit dizide bulunamadıMMISSIDSIKFGEIFFITTVDPaminoasit dizide bulunamadıDRDGLYRIKYILSLSCAKTLACKaminoasit dizide bulunamadı*KYDTCSSEGIRSRTL*KIVFKRaminoasit dizide bulunamadıENLILCLFHQKRRPVRRENEFGaminoasit dizide bulunamadıSDIPQINPLANSWQKIQDLKIENaminoasit dizide bulunamadıI*PM\n"
          ],
          "name": "stdout"
        }
      ]
    },
    {
      "cell_type": "code",
      "metadata": {
        "id": "OOZfNwIHHJyM"
      },
      "source": [
        "with open (\"cikti.fasta\", \"w\", encoding=\"utf-8\") as dosya: #w-write komutu. solda yazılan dosyaya altta belirteceğim şeyleri ekleyecek\n",
        "#dosya.write(\">Etiket\\n\") VE #parantez içine yazacaklarımı cikti.fasta dosyasına yazacak\n",
        "  dosya.write(liste[0])\n",
        "  #dosya.write(protein)\n"
      ],
      "execution_count": 20,
      "outputs": []
    },
    {
      "cell_type": "code",
      "metadata": {
        "colab": {
          "base_uri": "https://localhost:8080/"
        },
        "id": "eIhnwzmBIjHK",
        "outputId": "347aa00e-1f73-4f25-c981-d93b57886882"
      },
      "source": [
        "print(len(liste[1]))\n",
        "# print(len(liste[1].count(\"\\n\"))) #??? kontrol et- aşagıdaki doğru\n",
        "print(liste[1].count(\"\\n\"))"
      ],
      "execution_count": 27,
      "outputs": [
        {
          "output_type": "stream",
          "text": [
            "71\n",
            "1\n"
          ],
          "name": "stdout"
        }
      ]
    },
    {
      "cell_type": "code",
      "metadata": {
        "id": "ZJLYiLmQI9no"
      },
      "source": [
        "with open (\"cikti.fasta\", \"w\", encoding=\"utf-8\") as dosya: #w-write komutu. solda yaılan dosyaya altta belirteceğim şeyleri ekleyecek\n",
        "#dosya.write(\">Etiket\\n\") VE #parantez içine yazacaklarımı cikti.fasta dosyasına yazacak\n",
        "  dosya.write(liste[0])\n",
        "#dosya.write(protein)\n",
        "  for index in range(0, len(protein), 70): #/n sildikten sonra 70 tane\n",
        "  \n",
        "    satır = protein [index:index+70]\n",
        "    dosya.write(satır)\n",
        "    dosya.write(\"\\n\")\n",
        "    "
      ],
      "execution_count": 38,
      "outputs": []
    },
    {
      "cell_type": "code",
      "metadata": {
        "colab": {
          "base_uri": "https://localhost:8080/"
        },
        "id": "pHHYsCqpJrus",
        "outputId": "66ff7877-a83f-4b6a-d148-eb74351bcad7"
      },
      "source": [
        "print(liste[1].count(\"\\n\"))"
      ],
      "execution_count": null,
      "outputs": [
        {
          "output_type": "stream",
          "text": [
            "1\n"
          ],
          "name": "stdout"
        }
      ]
    },
    {
      "cell_type": "code",
      "metadata": {
        "id": "h_YYC49hv4d8"
      },
      "source": [
        "from google.colab import drive\n",
        "drive.mount('/content/drive')"
      ],
      "execution_count": null,
      "outputs": []
    },
    {
      "cell_type": "markdown",
      "metadata": {
        "id": "NnZVZgyPJukD"
      },
      "source": [
        ""
      ]
    }
  ]
}